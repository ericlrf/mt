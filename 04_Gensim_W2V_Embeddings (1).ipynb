{
 "cells": [
  {
   "cell_type": "markdown",
   "metadata": {
    "id": "view-in-github"
   },
   "source": [
    "<a href=\"https://colab.research.google.com/github/ufrpe-ensino/curso-mineracao-textos/blob/master/06_Gensim_W2V_Embeddings.ipynb\" target=\"_parent\"><img src=\"https://colab.research.google.com/assets/colab-badge.svg\" alt=\"Open In Colab\"/></a>"
   ]
  },
  {
   "cell_type": "markdown",
   "metadata": {
    "id": "PtkkVXY3z_wY"
   },
   "source": [
    "# Treinando uma representação de Embeddings de texto com Gensim\n",
    "\n",
    "O [Word2vec](https://en.wikipedia.org/wiki/Word2vec) é uma técnica muito popular de Processamento de Linguagem Natural que usa uma rede neural para aprender as representações vetoriais de palavras chamadas \"embeddings\" em um texto específico.\n",
    "\n",
    "Neste tutorial, usaremos a excelente implementação do word2vec do pacote [gensim](https://radimrehurek.com/gensim/index.html) para criar nosso modelo word2vec. Usaremos o método de redução de dimensionalidade PCA no sklearn para visualizar os vetores de embeddings aprendidos."
   ]
  },
  {
   "cell_type": "code",
   "execution_count": 34,
   "metadata": {},
   "outputs": [
    {
     "name": "stdout",
     "output_type": "stream",
     "text": [
      "Requirement already satisfied: gensim in /srv/conda/envs/notebook/lib/python3.6/site-packages (3.8.3)\n",
      "Requirement already satisfied: six>=1.5.0 in /srv/conda/envs/notebook/lib/python3.6/site-packages (from gensim) (1.15.0)\n",
      "Requirement already satisfied: smart-open>=1.8.1 in /srv/conda/envs/notebook/lib/python3.6/site-packages (from gensim) (4.2.0)\n",
      "Requirement already satisfied: numpy>=1.11.3 in /srv/conda/envs/notebook/lib/python3.6/site-packages (from gensim) (1.19.5)\n",
      "Requirement already satisfied: scipy>=0.18.1 in /srv/conda/envs/notebook/lib/python3.6/site-packages (from gensim) (1.5.3)\n"
     ]
    }
   ],
   "source": [
    "!pip install gensim"
   ]
  },
  {
   "cell_type": "code",
   "execution_count": 35,
   "metadata": {
    "id": "v0EeYiui0txC"
   },
   "outputs": [],
   "source": [
    "\n",
    "from gensim.models import Word2Vec\n",
    "import multiprocessing"
   ]
  },
  {
   "cell_type": "markdown",
   "metadata": {
    "id": "YYbRd85eFWpY"
   },
   "source": [
    "**Corpus**"
   ]
  },
  {
   "cell_type": "code",
   "execution_count": 36,
   "metadata": {
    "id": "JC1qG0Am17pW"
   },
   "outputs": [],
   "source": [
    "sentences = [\n",
    "      ['van', 'gogh', 'nasceu', 'numa', 'família', 'de', 'classe', 'média', 'alta'],\n",
    "      ['começou', 'a', 'desenhar', 'ainda', 'criança', 'sendo', 'descrito', 'como', 'alguém', 'sério', ',', 'quieto', 'e', 'pensativo'],\n",
    "      ['vincent', 'willem', 'van', 'gogh', 'gostava', 'de', 'desenhar', 'em', 'zundert'],\n",
    "      ['vincent', 'era', 'um', 'nome', 'comum', 'na', 'família', 'van', 'gogh'],\n",
    "      ['era', 'o', 'filho', 'mais', 'velho', 'sobrevivente', 'de', 'anna', 'cornelia', 'carbentus', 'e', 'theodorus', '.']\n",
    "      \n",
    "]"
   ]
  },
  {
   "cell_type": "markdown",
   "metadata": {
    "id": "Cb_jOaERFZeb"
   },
   "source": [
    "## Treinando o Modelo"
   ]
  },
  {
   "cell_type": "code",
   "execution_count": 37,
   "metadata": {
    "id": "QBtVutmA1_Km"
   },
   "outputs": [],
   "source": [
    "model = Word2Vec(sentences,\n",
    "                 sg=1, #0 para CBOW\n",
    "                 size=300,\n",
    "                 workers=multiprocessing.cpu_count(),\n",
    "                 iter=5,\n",
    "                 negative=5,\n",
    "                 min_count=1)"
   ]
  },
  {
   "cell_type": "markdown",
   "metadata": {
    "id": "Lf7Hj1oqJGUx"
   },
   "source": [
    "**Vetor da palavra \"vincent\"**"
   ]
  },
  {
   "cell_type": "code",
   "execution_count": 38,
   "metadata": {
    "colab": {
     "base_uri": "https://localhost:8080/"
    },
    "executionInfo": {
     "elapsed": 660,
     "status": "ok",
     "timestamp": 1614290169669,
     "user": {
      "displayName": "RAFAEL MELLO",
      "photoUrl": "https://lh3.googleusercontent.com/a-/AOh14GjxqXt2MMNQliOYv_GsHlDWTWTLdcjv4AksIcB8=s64",
      "userId": "06109047804035597038"
     },
     "user_tz": 180
    },
    "id": "Fh_VBUstJFqA",
    "outputId": "438fcd91-ea34-45f4-a46c-d457dd8154ea"
   },
   "outputs": [
    {
     "name": "stderr",
     "output_type": "stream",
     "text": [
      "/srv/conda/envs/notebook/lib/python3.6/site-packages/ipykernel_launcher.py:1: DeprecationWarning: Call to deprecated `__getitem__` (Method will be removed in 4.0.0, use self.wv.__getitem__() instead).\n",
      "  \"\"\"Entry point for launching an IPython kernel.\n"
     ]
    },
    {
     "data": {
      "text/plain": [
       "array([ 0.00087544,  0.00116248,  0.00129569, -0.00109408, -0.00082634],\n",
       "      dtype=float32)"
      ]
     },
     "execution_count": 38,
     "metadata": {},
     "output_type": "execute_result"
    }
   ],
   "source": [
    "model[\"vincent\"][0:5]"
   ]
  },
  {
   "cell_type": "markdown",
   "metadata": {
    "id": "eN5zjQ9nG1IS"
   },
   "source": [
    "**Armazenando todos vetores do Modelo**"
   ]
  },
  {
   "cell_type": "code",
   "execution_count": 39,
   "metadata": {
    "colab": {
     "base_uri": "https://localhost:8080/"
    },
    "executionInfo": {
     "elapsed": 653,
     "status": "ok",
     "timestamp": 1614290173132,
     "user": {
      "displayName": "RAFAEL MELLO",
      "photoUrl": "https://lh3.googleusercontent.com/a-/AOh14GjxqXt2MMNQliOYv_GsHlDWTWTLdcjv4AksIcB8=s64",
      "userId": "06109047804035597038"
     },
     "user_tz": 180
    },
    "id": "zpXOm2w1GoJ9",
    "outputId": "caea674e-67ee-460b-f023-32430c407009"
   },
   "outputs": [
    {
     "name": "stderr",
     "output_type": "stream",
     "text": [
      "/srv/conda/envs/notebook/lib/python3.6/site-packages/ipykernel_launcher.py:1: DeprecationWarning: Call to deprecated `__getitem__` (Method will be removed in 4.0.0, use self.wv.__getitem__() instead).\n",
      "  \"\"\"Entry point for launching an IPython kernel.\n"
     ]
    }
   ],
   "source": [
    "x = model[model.wv.vocab]"
   ]
  },
  {
   "cell_type": "markdown",
   "metadata": {
    "id": "OeRgTbgAHY23"
   },
   "source": [
    "## Visualização\n",
    "**Redução da Dimensionalidade**"
   ]
  },
  {
   "cell_type": "code",
   "execution_count": 40,
   "metadata": {
    "id": "HFxE4VEhHJDs"
   },
   "outputs": [],
   "source": [
    "from sklearn.decomposition import PCA\n",
    "\n",
    "pca = PCA(n_components=2)\n",
    "\n",
    "dim = pca.fit_transform(x)"
   ]
  },
  {
   "cell_type": "markdown",
   "metadata": {
    "id": "WpPlzF2PKATa"
   },
   "source": [
    "**Plot do Modelo**"
   ]
  },
  {
   "cell_type": "code",
   "execution_count": 41,
   "metadata": {
    "colab": {
     "base_uri": "https://localhost:8080/",
     "height": 863
    },
    "executionInfo": {
     "elapsed": 1112,
     "status": "ok",
     "timestamp": 1614290183568,
     "user": {
      "displayName": "RAFAEL MELLO",
      "photoUrl": "https://lh3.googleusercontent.com/a-/AOh14GjxqXt2MMNQliOYv_GsHlDWTWTLdcjv4AksIcB8=s64",
      "userId": "06109047804035597038"
     },
     "user_tz": 180
    },
    "id": "sTBESLSxHv5e",
    "outputId": "3b6aca02-a553-4132-d7ef-07c34a1e1780"
   },
   "outputs": [
    {
     "data": {
      "image/png": "[encoded data removed]",
      "text/plain": [
       "<Figure size 1080x1080 with 1 Axes>"
      ]
     },
     "metadata": {
      "needs_background": "light"
     },
     "output_type": "display_data"
    }
   ],
   "source": [
    "from matplotlib import pyplot as plt\n",
    "\n",
    "plt.figure(figsize=(15,15))\n",
    "plt.scatter(dim[:, 0], dim[:, 1])\n",
    "\n",
    "words = list(model.wv.vocab)\n",
    "for i, word in enumerate(words):\n",
    "\tplt.annotate(word, xy=(dim[i, 0], dim[i, 1]))\n",
    "plt.show()"
   ]
  },
  {
   "cell_type": "markdown",
   "metadata": {
    "id": "-nxZltY5Fj4w"
   },
   "source": [
    "**Salvando os embeddings gerados**"
   ]
  },
  {
   "cell_type": "code",
   "execution_count": 42,
   "metadata": {
    "id": "lLVWSVaG2TtP"
   },
   "outputs": [],
   "source": [
    "model.save('model.bin')\n",
    "\n",
    "model.wv.save_word2vec_format(\"model_skpg_300d.txt\")"
   ]
  },
  {
   "cell_type": "markdown",
   "metadata": {
    "id": "eSuTBYegFof5"
   },
   "source": [
    "**Carregando Modelo .bin**"
   ]
  },
  {
   "cell_type": "code",
   "execution_count": 43,
   "metadata": {
    "colab": {
     "base_uri": "https://localhost:8080/"
    },
    "executionInfo": {
     "elapsed": 651,
     "status": "ok",
     "timestamp": 1614290189982,
     "user": {
      "displayName": "RAFAEL MELLO",
      "photoUrl": "https://lh3.googleusercontent.com/a-/AOh14GjxqXt2MMNQliOYv_GsHlDWTWTLdcjv4AksIcB8=s64",
      "userId": "06109047804035597038"
     },
     "user_tz": 180
    },
    "id": "QTCTGzBO2YDu",
    "outputId": "20ae5c0d-b7ba-48fe-e170-4d473e72a51f"
   },
   "outputs": [
    {
     "name": "stderr",
     "output_type": "stream",
     "text": [
      "/srv/conda/envs/notebook/lib/python3.6/site-packages/ipykernel_launcher.py:3: DeprecationWarning: Call to deprecated `__getitem__` (Method will be removed in 4.0.0, use self.wv.__getitem__() instead).\n",
      "  This is separate from the ipykernel package so we can avoid doing imports until\n"
     ]
    },
    {
     "data": {
      "text/plain": [
       "array([-0.00084711,  0.00163782, -0.00050171, -0.00160037, -0.0014911 ],\n",
       "      dtype=float32)"
      ]
     },
     "execution_count": 43,
     "metadata": {},
     "output_type": "execute_result"
    }
   ],
   "source": [
    "model_bin = Word2Vec.load('model.bin')\n",
    "\n",
    "model_bin['gogh'][0:5]"
   ]
  },
  {
   "cell_type": "markdown",
   "metadata": {
    "id": "e9-nJS_KIxvA"
   },
   "source": [
    "**Carregando Modelo .txt**"
   ]
  },
  {
   "cell_type": "code",
   "execution_count": 44,
   "metadata": {
    "colab": {
     "base_uri": "https://localhost:8080/"
    },
    "executionInfo": {
     "elapsed": 653,
     "status": "ok",
     "timestamp": 1614290192179,
     "user": {
      "displayName": "RAFAEL MELLO",
      "photoUrl": "https://lh3.googleusercontent.com/a-/AOh14GjxqXt2MMNQliOYv_GsHlDWTWTLdcjv4AksIcB8=s64",
      "userId": "06109047804035597038"
     },
     "user_tz": 180
    },
    "id": "wWXRsHNPItfU",
    "outputId": "c294a757-0521-4516-961b-45ec5d242306"
   },
   "outputs": [
    {
     "data": {
      "text/plain": [
       "array([-0.00084711,  0.00163782, -0.00050171, -0.00160037, -0.0014911 ],\n",
       "      dtype=float32)"
      ]
     },
     "execution_count": 44,
     "metadata": {},
     "output_type": "execute_result"
    }
   ],
   "source": [
    "from gensim.models import KeyedVectors\n",
    "\n",
    "model_txt = KeyedVectors.load_word2vec_format('model_skpg_300d.txt')\n",
    "\n",
    "model_txt['gogh'][0:5]"
   ]
  },
  {
   "cell_type": "code",
   "execution_count": 45,
   "metadata": {
    "colab": {
     "base_uri": "https://localhost:8080/"
    },
    "executionInfo": {
     "elapsed": 663,
     "status": "ok",
     "timestamp": 1614290196007,
     "user": {
      "displayName": "RAFAEL MELLO",
      "photoUrl": "https://lh3.googleusercontent.com/a-/AOh14GjxqXt2MMNQliOYv_GsHlDWTWTLdcjv4AksIcB8=s64",
      "userId": "06109047804035597038"
     },
     "user_tz": 180
    },
    "id": "__OocQBx_loq",
    "outputId": "1a465223-f3b5-4bc7-e4e2-a4e8373ce30b"
   },
   "outputs": [
    {
     "data": {
      "text/plain": [
       "[('sendo', 0.091798335313797),\n",
       " ('mais', 0.08804845809936523),\n",
       " ('theodorus', 0.08766737580299377),\n",
       " ('sério', 0.0704948902130127),\n",
       " ('gostava', 0.06669310480356216),\n",
       " ('como', 0.05231217294931412),\n",
       " ('nome', 0.048502277582883835),\n",
       " ('velho', 0.04802588000893593),\n",
       " ('nasceu', 0.04470539838075638),\n",
       " ('média', 0.03886643797159195)]"
      ]
     },
     "execution_count": 45,
     "metadata": {},
     "output_type": "execute_result"
    }
   ],
   "source": [
    "model_txt.most_similar('vincent')"
   ]
  },
  {
   "cell_type": "markdown",
   "metadata": {
    "id": "X0NQ2-9nED9I"
   },
   "source": [
    "## Visualizando no tensorboard\n",
    "\n",
    "Execute a celula abaixo, e carregue os arquivos gerados no http://projector.tensorflow.org/"
   ]
  },
  {
   "cell_type": "code",
   "execution_count": 46,
   "metadata": {
    "id": "zjPTYqquDMgw"
   },
   "outputs": [],
   "source": [
    "import io\n",
    "\n",
    "# Vector file, `\\t` seperated the vectors and `\\n` seperate the words\n",
    "\"\"\"\n",
    "0.1\\t0.2\\t0.5\\t0.9\n",
    "0.2\\t0.1\\t5.0\\t0.2\n",
    "0.4\\t0.1\\t7.0\\t0.8\n",
    "\"\"\"\n",
    "out_v = io.open('vecs.tsv', 'w', encoding='utf-8')\n",
    "\n",
    "# Meta data file, `\\n` seperated word\n",
    "\"\"\"\n",
    "token1\n",
    "token2\n",
    "token3\n",
    "\"\"\"\n",
    "out_m = io.open('meta.tsv', 'w', encoding='utf-8')\n",
    "\n",
    "# Write meta file and vector file\n",
    "for index in range(len(model_txt.index2word)):\n",
    "    word = model_txt.index2word[index]\n",
    "    vec = model_txt.vectors[index]\n",
    "    out_m.write(word + \"\\n\")\n",
    "    out_v.write(''.join([str(x) for x in vec]) + \"\\n\")\n",
    "out_v.close()\n",
    "out_m.close()"
   ]
  },
  {
   "cell_type": "markdown",
   "metadata": {
    "id": "8Zky8ewHdJ0k"
   },
   "source": [
    "# Exemplo: Embeddings de textos de Machado de Assis\n",
    "Vamos utilizar o Word2Vec para produzir uma representação vetorial e visualização das palavras de textos de um corpus do livro de Memórias Póstumas de Brás Cubas, no corpus do NLTK"
   ]
  },
  {
   "cell_type": "code",
   "execution_count": 47,
   "metadata": {},
   "outputs": [
    {
     "name": "stdout",
     "output_type": "stream",
     "text": [
      "Collecting nltk\n",
      "  Downloading nltk-3.5.zip (1.4 MB)\n",
      "\u001b[K     |████████████████████████████████| 1.4 MB 6.3 MB/s eta 0:00:01\n",
      "\u001b[?25hCollecting click\n",
      "  Downloading click-7.1.2-py2.py3-none-any.whl (82 kB)\n",
      "\u001b[K     |████████████████████████████████| 82 kB 2.4 MB/s  eta 0:00:01\n",
      "\u001b[?25hRequirement already satisfied: joblib in /srv/conda/envs/notebook/lib/python3.6/site-packages (from nltk) (1.0.0)\n",
      "Collecting regex\n",
      "  Downloading regex-2020.11.13-cp36-cp36m-manylinux2014_x86_64.whl (723 kB)\n",
      "\u001b[K     |████████████████████████████████| 723 kB 30.5 MB/s eta 0:00:01\n",
      "\u001b[?25hCollecting tqdm\n",
      "  Downloading tqdm-4.58.0-py2.py3-none-any.whl (73 kB)\n",
      "\u001b[K     |████████████████████████████████| 73 kB 3.6 MB/s  eta 0:00:01\n",
      "\u001b[?25hBuilding wheels for collected packages: nltk\n",
      "  Building wheel for nltk (setup.py) ... \u001b[?25ldone\n",
      "\u001b[?25h  Created wheel for nltk: filename=nltk-3.5-py3-none-any.whl size=1434675 sha256=bebfcb5090bed84853c41e8ea3b8ce4d63951f43eb646b7bfc8a53dc32528bf1\n",
      "  Stored in directory: /home/jovyan/.cache/pip/wheels/de/5e/42/64abaeca668161c3e2cecc24f864a8fc421e3d07a104fc8a51\n",
      "Successfully built nltk\n",
      "Installing collected packages: click, regex, tqdm, nltk\n",
      "Successfully installed click-7.1.2 nltk-3.5 regex-2020.11.13 tqdm-4.58.0\n"
     ]
    }
   ],
   "source": [
    "!pip install nltk"
   ]
  },
  {
   "cell_type": "code",
   "execution_count": 48,
   "metadata": {
    "colab": {
     "base_uri": "https://localhost:8080/",
     "height": 1000
    },
    "executionInfo": {
     "elapsed": 942,
     "status": "error",
     "timestamp": 1614290674512,
     "user": {
      "displayName": "RAFAEL MELLO",
      "photoUrl": "https://lh3.googleusercontent.com/a-/AOh14GjxqXt2MMNQliOYv_GsHlDWTWTLdcjv4AksIcB8=s64",
      "userId": "06109047804035597038"
     },
     "user_tz": 180
    },
    "id": "M6FRtWFddV3x",
    "outputId": "710f59b3-59d3-470f-9f96-148ca8d6e968"
   },
   "outputs": [
    {
     "name": "stderr",
     "output_type": "stream",
     "text": [
      "[nltk_data] Downloading package punkt to /home/jovyan/nltk_data...\n",
      "[nltk_data]   Unzipping tokenizers/punkt.zip.\n",
      "[nltk_data] Downloading package machado to /home/jovyan/nltk_data...\n"
     ]
    },
    {
     "name": "stdout",
     "output_type": "stream",
     "text": [
      "Machado de Assis -- Obra Completa\n",
      "\n",
      "http://machado.mec.gov.br/\n",
      "\n",
      "Public Domain\n",
      "\n",
      "Contents:\n",
      "\n",
      "Romance\n",
      "\n",
      "romance/marm01.txt: Ressurreição (1872)\n",
      "romance/marm02.txt: A Mão e a Luva (1874)\n",
      "romance/marm03.txt: Helena (1876)\n",
      "romance/marm04.txt: Iaiá Garcia (1878)\n",
      "romance/marm05.txt: Memórias Póstumas de Brás Cubas (1881)\n",
      "romance/marm06.txt: Casa Velha (1885)\n",
      "romance/marm07.txt: Quincas Borba (1891)\n",
      "romance/marm08.txt: Dom Casmurro (1899)\n",
      "romance/marm09.txt: Esaú e Jacó (1904)\n",
      "romance/marm10.txt: Memorial de Aires (1908)\n",
      "\n",
      "Poesia\n",
      "\n",
      "poesia/maps01.txt: Crisálidas (1864)\n",
      "poesia/maps02.txt: Falenas (1870)\n",
      "poesia/maps03.txt: Americanas (1875)\n",
      "poesia/maps04.txt: Gazeta de Holanda (1886-88)\n",
      "poesia/maps05.txt: Ocidentais (1901)\n",
      "poesia/maps06.txt: O Almada (1908)\n",
      "poesia/maps07.txt: Dispersas (1854-1939)\n",
      "\n",
      "Contos\n",
      "\n",
      "contos/macn001.txt: Contos Fluminenses (1870); Miss Dollar; Luís Soares; A mulher de preto; O segredo de Augusta; Confissões de uma viúva moça; Linha reta e linha curva; Frei Sim\n",
      "contos/macn002.txt: Histórias da meia-noite (1873); A parasita azul; As bodas de Luís Duarte; Ernesto de Tal; Aurora sem dia; O relógio de ouro; Ponto de vista\n",
      "contos/macn003.txt: Papéis avulsos (1882); O alienista; Teoria do medalhão; A chinela turca; Na arca; D. Benedita; O segredo do bonzo; O anel de Polícrates; O empréstimo; A sereníssima república; O espelho; Uma visita de Alcibíades; Verba testamentária\n",
      "contos/macn004.txt: Histórias sem data (1884); A igreja do Diabo; O lapso; Último capítulo; Cantiga de esponsais; Singular ocorrência; Galeria póstuma; Capítulo dos chapéus; Conto alexandrino; Rimas de Sapucaia!; Uma senhora; Anedota pecuniária; Fulano; A segunda vida; Noite de almirante; Manuscrito de um sacristão; Ex cathedra; A senhora do Galvão; As academias de Sião\n",
      "contos/macn005.txt: Várias histórias (1896); A cartomante; Entre santos; Uns braços; Um homem célebre; A desejada das gentes; A causa secreta; Trio em lá menor; Adão e Eva; O enfermeiro; O diplomático; Mariana; Conto de escola; Um apólogo; D. Paula; Viver!; O cônego ou Metafísica do estilo\n",
      "contos/macn006.txt: Páginas recolhidas (1899); O caso da vara; O dicionário; Um erradio; Eterno!; Missa do galo; Idéias de canário; Lágrimas de Xerxes; Papéis velhos\n",
      "contos/macn007.txt: Relíquias de Casa Velha (1906); Pai contra mãe; Maria Cora; Marcha fúnebre; Um capitão de voluntários; Suje-se gordo!; Umas férias; Evolução; Pílades e Orestes; Anedota do cabriolet\n",
      "\n",
      "Traducao\n",
      "\n",
      "traducao/matr01.txt: Suplício de uma mulher (1865)\n",
      "traducao/matr02.txt: Os trabalhadores do mar (1866)\n",
      "traducao/matr03.txt: Oliver Twist (1870)\n",
      "\n",
      "Teatro\n",
      "\n",
      "teatro/matt01.txt: As forcas caudinas (1956)\n",
      "teatro/matt02.txt: Hoje avental, amanhã luva (1860)\n",
      "teatro/matt03.txt: Desencantos (1861)\n",
      "teatro/matt04.txt: O caminho da porta / O protocolo (1863)\n",
      "teatro/matt05.txt: Quase ministro (1864)\n",
      "teatro/matt06.txt: Os deuses de casaca (1866)\n",
      "teatro/matt07.txt: O bote de rapé (1878)\n",
      "teatro/matt08.txt: Tu, só tu, puro amor (1880)\n",
      "teatro/matt09.txt: Não consultes médico (1899)\n",
      "teatro/matt10.txt: Lição de botânica (1906)\n",
      "\n",
      "Cronica\n",
      "\n",
      "cronica/macr01.txt: Comentários da semana (1861-1863)\n",
      "cronica/macr02.txt: Crônicas do Dr. Semana (1861-1864)\n",
      "cronica/macr03.txt: Crônicas - O futuro (1862-1863)\n",
      "cronica/macr04.txt: Ao acaso (1864-1865)\n",
      "cronica/macr05.txt: Cartas fluminenses (1867)\n",
      "cronica/macr06.txt: Badaladas (1871-1873)\n",
      "cronica/macr07.txt: História de quinze dias (1876-1877)\n",
      "cronica/macr08.txt: História dos trinta dias (1878)\n",
      "cronica/macr09.txt: Notas semanais (1878)\n",
      "cronica/macr10.txt: Balas de estalo (1883-1886)\n",
      "cronica/macr11.txt: Bons dias! (1888-1889)\n",
      "cronica/macr12.txt: A semana (1892-1800)\n",
      "cronica/macr13.txt: O jornal e o livro (1859)\n",
      "cronica/macr14.txt: A reforma pelo jornal (1859)\n",
      "cronica/macr15.txt: Aquarelas (1859)\n",
      "cronica/macr16.txt: O Visconde de Castilho (1875)\n",
      "cronica/macr17.txt: Cherchez la femme (1881)\n",
      "cronica/macr18.txt: José de Alencar (1883)\n",
      "cronica/macr19.txt: Joaquim Serra (1888)\n",
      "cronica/macr20.txt: O futuro dos argentinos (1888)\n",
      "cronica/macr21.txt: Entre 1892 e 1894 (1892-1894)\n",
      "cronica/macr22.txt: Henrique Chaves (1893)\n",
      "cronica/macr23.txt: Henrique Lombaerts (1897)\n",
      "cronica/macr24.txt: O velho Senado (1898)\n",
      "critica/mact01.txt: O Passado, o presente e o futuro da literatura (1858)\n",
      "critica/mact02.txt: Idéias sobre o teatro (1859)\n",
      "critica/mact03.txt: Revista dos teatros (1859)\n",
      "critica/mact04.txt: Revista Dramática (1860)\n",
      "critica/mact05.txt: A Crítica teatral. José de Alencar: Mãe (1860)\n",
      "critica/mact06.txt: Crítica variada - Diário do RJ (1862)\n",
      "critica/mact07.txt: Flores e Frutos, de Bruno Seabra (1862)\n",
      "critica/mact08.txt: Pareceres - Conservatório Dramático (1862-1864)\n",
      "critica/mact09.txt: Homem de Mello e B. Pinheiro  A Constituinte perante a História e Sombras e Luz (1863)\n",
      "critica/mact10.txt: Peregrinação pela província de S. Paulo , por A. E. Zaluar (1863)\n",
      "critica/mact11.txt: Revelações , de A. E. Zaluar (1863)\n",
      "critica/mact12.txt: Dois folhetins. Suplício de uma mulher (1865)\n",
      "critica/mact13.txt: O Ideal do crítico (1865)\n",
      "critica/mact14.txt: Álvares de Azevedo: Lira dos vinte anos (1866)\n",
      "critica/mact15.txt: Crítica teatral (1866)\n",
      "critica/mact16.txt: Fagundes Varela  Cantos e fantasias (1866)\n",
      "critica/mact17.txt: J .M. de Macedo: O culto do dever (1866)\n",
      "critica/mact18.txt: José de Alencar: Iracema (1866)\n",
      "critica/mact19.txt: Junqueira Freire: Inspirações do claustro (1866)\n",
      "critica/mact20.txt: Porto Alegre: Colombo (1866)\n",
      "critica/mact21.txt: Propósito (1866)\n",
      "critica/mact22.txt: Castro Alves (1868)\n",
      "critica/mact23.txt: Lúcio de Mendonça: Névoas matutinas (1872)\n",
      "critica/mact24.txt: Un cuento endemoniado e La mujer misteriosa , de Guilherme Malta (1872)\n",
      "critica/mact25.txt: Notícia da atual literatura brasileira: Instinto de nacionalidade (1873)\n",
      "critica/mact26.txt: Fagundes Varela (1875)\n",
      "critica/mact27.txt: Eça de Queirós: O primo Basílio (1878)\n",
      "critica/mact28.txt: Francisco de Castro: Harmonias errantes (1878)\n",
      "critica/mact29.txt: A Nova geração (1879)\n",
      "critica/mact30.txt: Carlos Jansen: Contos seletos das mil e uma noites (1882)\n",
      "critica/mact31.txt: Raimundo Correia: Sinfonias (1882)\n",
      "critica/mact32.txt: Alberto de Oliveira: Meridionais (1884)\n",
      "critica/mact33.txt: Enéias Galvão: Miragens (1885)\n",
      "critica/mact34.txt: L. L. Fernandes Pinheiro Júnior: Tipos e quadros (1886)\n",
      "critica/mact35.txt: José de Alencar: O Guarani (1887)\n",
      "critica/mact36.txt: Henriqueta Renan (1896)\n",
      "critica/mact37.txt: Discursos na Academia Brasileira de Letras (1897)\n",
      "critica/mact38.txt: Magalhães de Azeredo: Procelárias (1898)\n",
      "critica/mact39.txt: Cenas da vida amazônica , de José Veríssimo (1899)\n",
      "critica/mact40.txt: Garrett (1899)\n",
      "critica/mact41.txt: Eça de Queirós (1900)\n",
      "critica/mact42.txt: Eduardo Prado (1901)\n",
      "critica/mact43.txt: Magalhães de Azeredo e Mário de Alencar: Horas sagradas e Versos (1902)\n",
      "critica/mact44.txt: Oliveira Lima: Secretário d'el-rei (1904)\n",
      "critica/mact45.txt: Joaquim Nabuco: Pensées détachées et souvenirs (1906)\n",
      "\n",
      "Miscelanea\n",
      "\n",
      "miscelanea/mams01.txt: Os imortais (1859)\n",
      "miscelanea/mams02.txt: Queda que as mulheres têm para os tolos (1861)\n",
      "miscelanea/mams03.txt: Carta ao Sr. Bispo do RJ (1862)\n",
      "miscelanea/mams04.txt: Carta à redação da Imprensa Acadêmica (1864)\n",
      "miscelanea/mams05.txt: Pedro Luís (1884)\n",
      "miscelanea/mams06.txt: A morte de Francisco Otaviano (1889)\n",
      "miscelanea/mams07.txt: Secretaria de Agricultura (1890)\n",
      "miscelanea/mams08.txt: A Paixão de Jesus (1904)\n",
      "miscelanea/mams09.txt: Gonçalves Dias (1906)\n",
      "miscelanea/mams10.txt: A Estátua de José de Alencar (1906)\n",
      "\n"
     ]
    }
   ],
   "source": [
    "import nltk\n",
    "nltk.download('punkt')\n",
    "nltk.download('machado')\n",
    "\n",
    "from nltk.corpus import machado\n",
    "\n",
    "print(machado.readme())"
   ]
  },
  {
   "cell_type": "code",
   "execution_count": 49,
   "metadata": {
    "colab": {
     "base_uri": "https://localhost:8080/"
    },
    "executionInfo": {
     "elapsed": 682,
     "status": "ok",
     "timestamp": 1614291191394,
     "user": {
      "displayName": "RAFAEL MELLO",
      "photoUrl": "https://lh3.googleusercontent.com/a-/AOh14GjxqXt2MMNQliOYv_GsHlDWTWTLdcjv4AksIcB8=s64",
      "userId": "06109047804035597038"
     },
     "user_tz": 180
    },
    "id": "49-RykqzQLyE",
    "outputId": "c5f17bbf-ea1b-411b-bf89-87ef0c773a76"
   },
   "outputs": [
    {
     "name": "stderr",
     "output_type": "stream",
     "text": [
      "[nltk_data] Downloading package machado to /home/jovyan/nltk_data...\n",
      "[nltk_data]   Package machado is already up-to-date!\n"
     ]
    },
    {
     "data": {
      "text/plain": [
       "True"
      ]
     },
     "execution_count": 49,
     "metadata": {},
     "output_type": "execute_result"
    }
   ],
   "source": [
    "nltk.download(\"machado\")"
   ]
  },
  {
   "cell_type": "code",
   "execution_count": 50,
   "metadata": {
    "colab": {
     "base_uri": "https://localhost:8080/",
     "height": 975
    },
    "executionInfo": {
     "elapsed": 665,
     "status": "error",
     "timestamp": 1614290356172,
     "user": {
      "displayName": "RAFAEL MELLO",
      "photoUrl": "https://lh3.googleusercontent.com/a-/AOh14GjxqXt2MMNQliOYv_GsHlDWTWTLdcjv4AksIcB8=s64",
      "userId": "06109047804035597038"
     },
     "user_tz": 180
    },
    "id": "0OukKXNZd4wG",
    "outputId": "d9745e5d-b8eb-4a39-e4b8-bbc9f0fe4e29"
   },
   "outputs": [
    {
     "name": "stdout",
     "output_type": "stream",
     "text": [
      "CPU times: user 18.2 s, sys: 0 ns, total: 18.2 s\n",
      "Wall time: 18.2 s\n"
     ]
    }
   ],
   "source": [
    "import numpy as np\n",
    "import os\n",
    "from nltk.corpus import machado\n",
    "import unicodedata\n",
    "\n",
    "# Remove acentos e coloca palavras em minúsculas\n",
    "def strip_accents_and_lower(s):\n",
    "    return ''.join(c for c in unicodedata.normalize('NFD', s) if unicodedata.category(c) != 'Mn').lower()\n",
    "\n",
    "machado_sents = map(lambda sent: list(map(strip_accents_and_lower, sent)), machado.sents())\n",
    "\n",
    "# 'Executa' o mapeamento da lista\n",
    "%time machado_sents = list(machado_sents)"
   ]
  },
  {
   "cell_type": "markdown",
   "metadata": {
    "id": "w8v14G7Sgfb0"
   },
   "source": [
    "Utilize as sentenças da variável `machado_sents` para treinar e visualizar o embedding produzido"
   ]
  },
  {
   "cell_type": "code",
   "execution_count": 51,
   "metadata": {
    "id": "hF5abpxPd9aw"
   },
   "outputs": [],
   "source": [
    "model_machado = Word2Vec(machado_sents,\n",
    "                 sg=1, #0 para CBOW\n",
    "                 size=300,\n",
    "                 workers=multiprocessing.cpu_count(),\n",
    "                 iter=5,\n",
    "                 negative=5,\n",
    "                 min_count=1)"
   ]
  },
  {
   "cell_type": "markdown",
   "metadata": {
    "id": "sB22bK3NgxYS"
   },
   "source": [
    "Exiba as palavras mais próximas da lista abaixo"
   ]
  },
  {
   "cell_type": "code",
   "execution_count": 52,
   "metadata": {
    "id": "DCDllE-ug1kf"
   },
   "outputs": [
    {
     "name": "stdout",
     "output_type": "stream",
     "text": [
      "seja ['haja', 'for', 'sera', 'significa', 'ache']\n",
      "foi ['fui', 'serviu', 'correu', 'obteve', 'substituiu']\n",
      "amou ['amara', 'loucamente', 'amei', 'soubera', 'casaria']\n",
      "aquele ['esse', 'remoto', 'misterioso', 'imenso', 'melancolico']\n",
      "foram ['ficaram', 'vieram', 'seriam', 'iam', 'fizeram']\n",
      "homem ['sujeito', 'animal', 'marinheiro', 'individuo', 'cavaleiro']\n",
      "rua ['ouvidor', 'esquina', 'quitanda', 'ourives', 'invalidos']\n",
      "marcela ['aflita', 'mucama', 'alberta', 'conrado', 'celestina']\n"
     ]
    }
   ],
   "source": [
    "# Exibe algumas palavras próximas daquelas contidas nesta lista\n",
    "test_words = ['seja', 'foi', 'amou', 'aquele', 'foram', 'homem', 'rua', 'marcela']\n",
    "\n",
    "# Embedding de uma palavra\n",
    "def word_embedding(word):\n",
    "    return model_machado.wv[word]\n",
    "\n",
    "# Pega apenas as palavras a partir do resultado da função 'most_similar'\n",
    "def strip_score(result):\n",
    "    return [w for w, s in result]\n",
    "    \n",
    "# Lista as palavras mais próximas\n",
    "def closest_words(word, num=5):\n",
    "    word_score_pair = model_machado.wv.most_similar(word, topn=num)\n",
    "    return strip_score(word_score_pair)\n",
    "\n",
    "for w in test_words:\n",
    "    print(w, closest_words(w))"
   ]
  },
  {
   "cell_type": "code",
   "execution_count": null,
   "metadata": {
    "id": "nHF2oiMfNMs0"
   },
   "outputs": [],
   "source": []
  }
 ],
 "metadata": {
  "colab": {
   "collapsed_sections": [],
   "name": "04_Gensim_W2V_Embeddings.ipynb",
   "provenance": [],
   "toc_visible": true
  },
  "kernelspec": {
   "display_name": "Python 3",
   "language": "python",
   "name": "python3"
  },
  "language_info": {
   "codemirror_mode": {
    "name": "ipython",
    "version": 3
   },
   "file_extension": ".py",
   "mimetype": "text/x-python",
   "name": "python",
   "nbconvert_exporter": "python",
   "pygments_lexer": "ipython3",
   "version": "3.6.11"
  },
  "widgets": {
   "application/vnd.jupyter.widget-state+json": {
    "state": {},
    "version_major": 2,
    "version_minor": 0
   }
  }
 },
 "nbformat": 4,
 "nbformat_minor": 1
}
